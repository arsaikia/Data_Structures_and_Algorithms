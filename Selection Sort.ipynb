{
 "cells": [
  {
   "cell_type": "markdown",
   "metadata": {},
   "source": [
    "## Selection Sort"
   ]
  },
  {
   "cell_type": "raw",
   "metadata": {},
   "source": [
    "Traverses the array and sets the largest element to the last element of the Unsorted partition.\n",
    "\n",
    "array = [ 1, 10, -5, 8, 12, 7]\n",
    "\n",
    "Here, \n",
    "    \n",
    "        Unsorted array Index will move from Right(7) to left(1)\n",
    "        We consider 1st element index of unsorted partition to be the largest; then compare with each of the element in unsorted partiton and if an element is larger set the largestIndex = index of that element. After the complete traversal, we swap the element at largest Index with the last element of the unsorted Partition.\n",
    "        The sorted partition grows from Right to left; the unsorted partition decresases from Max Length to right\n",
    "\n",
    "1. Before 1st traversal\n",
    "\n",
    "    unsortedArrayIndex = 5    //Last index\n",
    "    largestElementIndex = 0\n",
    "    \n",
    "2. 1st traversal\n",
    "    \n",
    "    Compare the 1st element: 10 with element at largestElementIndex(0) : 1\n",
    "    10 > 1 : So update largestElementIndex = 1\n",
    "    \n",
    "    Compare 2nd element: -5 with element at largestElementIndex(1): 10\n",
    "    -5 !> 1 : So largestElementIndex = 1\n",
    "    \n",
    "    Compare 3nd element: 8 with element at largestElementIndex(1): 10\n",
    "    8 !> 1 : So largestElementIndex = 1\n",
    "    \n",
    "    Compare the 4th element: 12 with element at largestElementIndex(1) : 10\n",
    "    12 > 10 : So update largestElementIndex = 4\n",
    "    \n",
    "    Compare the 5th element: 7 with element at largestElementIndex(4) : 12\n",
    "    7 !> 12 : So largestElementIndex = 4\n",
    "        \n",
    "    After 1 complete Traversal: SWAP element at largestElementIndex = 4 with element at unsortedArrayIndex = 5 \n",
    "    \n",
    "    \n",
    "                                array = [ 1, 10, -5, 8, 12, 7] => array = [ 1, 10, -5, 8, 7, 12]\n",
    "                                \n",
    "                                \n",
    "    After 2 complete Traversal: SWAP element at largestElementIndex = 1 with element at unsortedArrayIndex = 4 \n",
    "    \n",
    "    \n",
    "                                array = [ 1, 10, -5, 8, 7, 12]  => array = [ 1, 7, -5, 8, 10, 12] \n",
    "                                \n",
    "                                \n",
    "    \n",
    "    After 3 complete Traversal: SWAP element at largestElementIndex = 3 with element at unsortedArrayIndex = 3 (NO SWAP) \n",
    "    \n",
    "    \n",
    "                                array = [ 1, 7, -5, 8, 10, 12]  => array = [ 1, 7, -5, 8, 10, 12] \n",
    "                                \n",
    "                                \n",
    "                                \n",
    "    After 4 complete Traversal: SWAP element at largestElementIndex = 1 with element at unsortedArrayIndex = 2 \n",
    "    \n",
    "    \n",
    "                                array = [ 1, 7, -5, 8, 10, 12]  => array = [ 1, -5, 7, 8, 10, 12] \n",
    "                                \n",
    "                                \n",
    "    \n",
    "    After 5 complete Traversal: SWAP element at largestElementIndex = 0 with element at unsortedArrayIndex = 1 \n",
    "    \n",
    "    \n",
    "                                array = [ 1, -5, 7, 8, 10, 12]  => array = [ -5, 1, 7, 8, 10, 12]\n",
    "                                \n",
    "                                \n",
    "                                \n",
    "                                \n",
    "                                \n",
    "If you notice closely the unsorted PARTITION decreases from right while the sorted partition Increases from roght  left\n"
   ]
  },
  {
   "cell_type": "code",
   "execution_count": 1,
   "metadata": {},
   "outputs": [],
   "source": [
    "import random\n",
    "A = random.sample(range(-10, 10), random.randint(10,15)) "
   ]
  },
  {
   "cell_type": "code",
   "execution_count": 2,
   "metadata": {},
   "outputs": [
    {
     "name": "stdout",
     "output_type": "stream",
     "text": [
      "[-10, 6, 4, 5, 1, 0, -2, -5, 7, 2]\n"
     ]
    }
   ],
   "source": [
    "print(A)"
   ]
  },
  {
   "cell_type": "code",
   "execution_count": 3,
   "metadata": {},
   "outputs": [],
   "source": [
    "def Selection_Sort(arr):\n",
    "    for unsortedArrayIndex in range( len(arr)-1, -1, -1):\n",
    "        \n",
    "        largestElementIndex = 0;\n",
    "        \n",
    "        for i in range(1, unsortedArrayIndex+1, 1):\n",
    "            if ( ( arr[i] > arr[largestElementIndex] ) ):\n",
    "                \n",
    "                largestElementIndex = i\n",
    "        \n",
    "        arr[largestElementIndex], arr[unsortedArrayIndex] = arr[unsortedArrayIndex], arr[largestElementIndex]\n",
    "        \n",
    "        print(\"Array after {0} iteration: \\t {1} \".format((len(arr)-unsortedArrayIndex), arr))\n",
    "    \n",
    "    print(\"\\nSorted Array is :  {}\".format(arr))"
   ]
  },
  {
   "cell_type": "code",
   "execution_count": 4,
   "metadata": {},
   "outputs": [
    {
     "name": "stdout",
     "output_type": "stream",
     "text": [
      "Array after 1 iteration: \t [-10, 6, 4, 5, 1, 0, -2, -5, 2, 7] \n",
      "Array after 2 iteration: \t [-10, 2, 4, 5, 1, 0, -2, -5, 6, 7] \n",
      "Array after 3 iteration: \t [-10, 2, 4, -5, 1, 0, -2, 5, 6, 7] \n",
      "Array after 4 iteration: \t [-10, 2, -2, -5, 1, 0, 4, 5, 6, 7] \n",
      "Array after 5 iteration: \t [-10, 0, -2, -5, 1, 2, 4, 5, 6, 7] \n",
      "Array after 6 iteration: \t [-10, 0, -2, -5, 1, 2, 4, 5, 6, 7] \n",
      "Array after 7 iteration: \t [-10, -5, -2, 0, 1, 2, 4, 5, 6, 7] \n",
      "Array after 8 iteration: \t [-10, -5, -2, 0, 1, 2, 4, 5, 6, 7] \n",
      "Array after 9 iteration: \t [-10, -5, -2, 0, 1, 2, 4, 5, 6, 7] \n",
      "Array after 10 iteration: \t [-10, -5, -2, 0, 1, 2, 4, 5, 6, 7] \n",
      "\n",
      "Sorted Array is :  [-10, -5, -2, 0, 1, 2, 4, 5, 6, 7]\n"
     ]
    }
   ],
   "source": [
    "Selection_Sort(A)"
   ]
  },
  {
   "cell_type": "code",
   "execution_count": null,
   "metadata": {},
   "outputs": [],
   "source": []
  }
 ],
 "metadata": {
  "kernelspec": {
   "display_name": "Python 3",
   "language": "python",
   "name": "python3"
  },
  "language_info": {
   "codemirror_mode": {
    "name": "ipython",
    "version": 3
   },
   "file_extension": ".py",
   "mimetype": "text/x-python",
   "name": "python",
   "nbconvert_exporter": "python",
   "pygments_lexer": "ipython3",
   "version": "3.7.3"
  }
 },
 "nbformat": 4,
 "nbformat_minor": 2
}
