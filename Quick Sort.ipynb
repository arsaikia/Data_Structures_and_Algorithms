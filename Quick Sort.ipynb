{
 "cells": [
  {
   "cell_type": "markdown",
   "metadata": {},
   "source": [
    "# Quick Sort ( With random Hoare partition )"
   ]
  },
  {
   "cell_type": "code",
   "execution_count": 15,
   "metadata": {},
   "outputs": [
    {
     "data": {
      "text/plain": [
       "100000"
      ]
     },
     "execution_count": 15,
     "metadata": {},
     "output_type": "execute_result"
    }
   ],
   "source": [
    "import random\n",
    "A = random.sample(range(-1000000, 1000000), random.randint(100000,100000)) \n",
    "A1 = A"
   ]
  },
  {
   "cell_type": "code",
   "execution_count": 24,
   "metadata": {},
   "outputs": [],
   "source": [
    "def Quick_Sort( arr, lo, hi):\n",
    "    \n",
    "    if lo < hi :\n",
    "        p = Randomize_Hoare_Partition ( arr, lo, hi)\n",
    "        Quick_Sort( arr, lo, p-1)\n",
    "        Quick_Sort( arr, p+1, hi)\n",
    "    return arr\n",
    "\n",
    "\n",
    "\n",
    "\n",
    "def Randomize_Hoare_Partition(a, p, r):\n",
    "    \n",
    "    import random as R\n",
    "    index = R.randint(p,len(a)-1)\n",
    "    a[p], a[index] = a[index], a[p]\n",
    "    x = a[p]\n",
    "\n",
    "    i, j = p-1, r+1\n",
    "    while i<j:\n",
    "        while i<j:\n",
    "            j -= 1\n",
    "            if a[j] <= x:\n",
    "                break\n",
    "\n",
    "        while i<j:\n",
    "            i += 1\n",
    "            if a[i] >= x:\n",
    "                break\n",
    "                \n",
    "        if i < j:\n",
    "            a[i], a[j] = a[j], a[i]\n",
    "        else:\n",
    "            return j"
   ]
  },
  {
   "cell_type": "code",
   "execution_count": null,
   "metadata": {},
   "outputs": [],
   "source": [
    "import time as t\n",
    "start = t.time()\n",
    "Quick_Sort( A1, 0, len(A1)-1)\n",
    "end = t.time()\n",
    "print(end-start)"
   ]
  },
  {
   "cell_type": "code",
   "execution_count": null,
   "metadata": {},
   "outputs": [],
   "source": []
  }
 ],
 "metadata": {
  "kernelspec": {
   "display_name": "Python 3",
   "language": "python",
   "name": "python3"
  },
  "language_info": {
   "codemirror_mode": {
    "name": "ipython",
    "version": 3
   },
   "file_extension": ".py",
   "mimetype": "text/x-python",
   "name": "python",
   "nbconvert_exporter": "python",
   "pygments_lexer": "ipython3",
   "version": "3.7.3"
  }
 },
 "nbformat": 4,
 "nbformat_minor": 2
}
