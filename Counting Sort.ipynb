{
 "cells": [
  {
   "cell_type": "code",
   "execution_count": 18,
   "metadata": {},
   "outputs": [
    {
     "data": {
      "text/plain": [
       "[7, 10, 3, 8, 9, 6, 2, 4, 1, 5]"
      ]
     },
     "execution_count": 18,
     "metadata": {},
     "output_type": "execute_result"
    }
   ],
   "source": [
    "import random\n",
    "A = random.sample(range(1, 11), random.randint(10,10)) \n",
    "A"
   ]
  },
  {
   "cell_type": "code",
   "execution_count": 109,
   "metadata": {},
   "outputs": [],
   "source": [
    "A = [7, 10, 3, 7, 9, 1, 2, 9, 1, 2]"
   ]
  },
  {
   "cell_type": "code",
   "execution_count": 116,
   "metadata": {},
   "outputs": [],
   "source": [
    "def Counting_Sort( arr, maxRange ):\n",
    "    \n",
    "    # Create a new list with range as index\n",
    "    count_arr = [0 for i in range(maxRange)]\n",
    "    # Create a new list to store sorted\n",
    "    new_arr = [0 for i in range(len(arr))]\n",
    "    \n",
    "    # Count how many occurances of each element happens and store in the coun_arr\n",
    "    for element in arr:\n",
    "        count_arr[element-1] += 1\n",
    "    print(count_arr)\n",
    "    \n",
    "    # Traverse the count_arr\n",
    "    \n",
    "    i = 0\n",
    "    for a in range(len(arr)):            \n",
    "        for c in range(count_arr[a]):  \n",
    "            new_arr[i] = a+1\n",
    "            i += 1\n",
    "        \n",
    "    return(new_arr)    "
   ]
  },
  {
   "cell_type": "code",
   "execution_count": 117,
   "metadata": {},
   "outputs": [
    {
     "name": "stdout",
     "output_type": "stream",
     "text": [
      "[7, 10, 3, 7, 9, 1, 2, 9, 1, 2]\n",
      "[2, 2, 1, 0, 0, 0, 2, 0, 2, 1]\n"
     ]
    },
    {
     "data": {
      "text/plain": [
       "[1, 1, 2, 2, 3, 7, 7, 9, 9, 10]"
      ]
     },
     "execution_count": 117,
     "metadata": {},
     "output_type": "execute_result"
    }
   ],
   "source": [
    "print(A)\n",
    "Counting_Sort( A, 10 )\n"
   ]
  },
  {
   "cell_type": "code",
   "execution_count": 108,
   "metadata": {},
   "outputs": [
    {
     "data": {
      "text/plain": [
       "[1, 1, 2, 2, 3, 7, 7, 9, 9, 10]"
      ]
     },
     "execution_count": 108,
     "metadata": {},
     "output_type": "execute_result"
    }
   ],
   "source": [
    "sorted(A)"
   ]
  },
  {
   "cell_type": "code",
   "execution_count": null,
   "metadata": {},
   "outputs": [],
   "source": []
  }
 ],
 "metadata": {
  "kernelspec": {
   "display_name": "Python 3",
   "language": "python",
   "name": "python3"
  },
  "language_info": {
   "codemirror_mode": {
    "name": "ipython",
    "version": 3
   },
   "file_extension": ".py",
   "mimetype": "text/x-python",
   "name": "python",
   "nbconvert_exporter": "python",
   "pygments_lexer": "ipython3",
   "version": "3.7.3"
  }
 },
 "nbformat": 4,
 "nbformat_minor": 2
}
