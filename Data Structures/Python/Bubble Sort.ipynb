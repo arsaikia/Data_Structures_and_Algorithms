{
 "cells": [
  {
   "cell_type": "code",
   "execution_count": null,
   "metadata": {},
   "outputs": [
    {
     "evalue": "Error: Jupyter cannot be started. Error attempting to locate jupyter: Error: Module 'notebook' not installed.",
     "output_type": "error"
    }
   ],
   "source": [
    "import numpy as np\n",
    "import time as t\n",
    "\n",
    "# Create a Random Integer Array\n",
    "rand_arr = np.random.randint(low=5, high = 99, size= 10000, dtype = 'I' )\n",
    "\n",
    "# Uncomment the below line to see the array before sorting\n",
    "# print(\"Array Before Sorting: \", (rand_arr))"
   ]
  },
  {
   "cell_type": "code",
   "execution_count": 108,
   "metadata": {},
   "outputs": [],
   "source": [
    "'''\n",
    "Function that uses raw Bubble Sort procedure, that is comparing adjacent elements of an array\n",
    "and then swapping them. Note that this method will scan through the array even though the array is sorted. \n",
    "So the for loops will always execute.\n",
    "\n",
    "Run-time Complexity: Worst case : O(n^2), Best Case : O(n^2)\n",
    "'''\n",
    "\n",
    "\n",
    "def bubbleSortUnoptimized( intArray):\n",
    "    startTime = t.time()\n",
    "    for i in range(len(intArray)-1, 0, -1):\n",
    "        for j in range(0, i, 1):\n",
    "            if ( intArray[j] > intArray[j+1] ):\n",
    "                intArray[j], intArray[j+1] = intArray[j+1], intArray[j]\n",
    "    \n",
    "    return {'sortedArray' : intArray, 'sortTime' : t.time()-startTime}"
   ]
  },
  {
   "cell_type": "code",
   "execution_count": null,
   "metadata": {},
   "outputs": [],
   "source": []
  },
  {
   "cell_type": "code",
   "execution_count": 109,
   "metadata": {},
   "outputs": [],
   "source": [
    "'''\n",
    "Uses a Modified verson of the implementation : In any stage when for a complete comparision traversal through\n",
    "the array elements there are no swaps (this means array is sorted),\n",
    "The algorithm will do no more loops : Uses a Boolean Flag T/F to capture if there are any swaps happenin for each traversal\n",
    "\n",
    "Run-time Complexity: Worst case : O(n^2), Best Case : O(n) [e.g.: When array is already sorted]\n",
    "'''\n",
    "\n",
    "def bubbleSortOptimized( intArray):\n",
    "    startTime = t.time()\n",
    "    for i in range(len(intArray)-1, 0, -1):\n",
    "        flag = False\n",
    "        for j in range(0, i, 1):\n",
    "            if ( intArray[j] > intArray[j+1] ):\n",
    "                intArray[j], intArray[j+1] = intArray[j+1], intArray[j]\n",
    "                flag = True\n",
    "        if (flag == False):\n",
    "            return  {'sortedArray' : intArray, 'sortTime' : t.time()-startTime}"
   ]
  },
  {
   "cell_type": "code",
   "execution_count": 110,
   "metadata": {},
   "outputs": [],
   "source": [
    "Unoptimized = (bubbleSortUnoptimized(rand_arr))\n",
    "Optimized = (bubbleSortOptimized(rand_arr))"
   ]
  },
  {
   "cell_type": "code",
   "execution_count": 111,
   "metadata": {},
   "outputs": [
    {
     "name": "stdout",
     "output_type": "stream",
     "text": [
      " ------< UN-OPTIMIZED Bubble Sort >-----\n",
      " Sorted Array Size:  10000\n",
      " Time For Sorting:  46.17945408821106  Seconds\n",
      "\n",
      " ------< OPTIMIZED Bubble Sort >-----\n",
      " Sorted Array Size:  10000\n",
      " Time For Sorting:  0.005122661590576172  Seconds\n"
     ]
    }
   ],
   "source": [
    "print(\" ------< UN-OPTIMIZED Bubble Sort >-----\")\n",
    "print(\" Sorted Array Size: \",len(Unoptimized['sortedArray']))\n",
    "print(\" Time For Sorting: \", Unoptimized['sortTime'], \" Seconds\")\n",
    "print()\n",
    "print(\" ------< OPTIMIZED Bubble Sort >-----\")\n",
    "print(\" Sorted Array Size: \",len(Optimized['sortedArray']))\n",
    "print(\" Time For Sorting: \", Optimized['sortTime'], \" Seconds\")"
   ]
  }
 ],
 "metadata": {
  "kernelspec": {
   "display_name": "Python 3",
   "language": "python",
   "name": "python3"
  },
  "language_info": {
   "codemirror_mode": {
    "name": "ipython",
    "version": 3
   },
   "file_extension": ".py",
   "mimetype": "text/x-python",
   "name": "python",
   "nbconvert_exporter": "python",
   "pygments_lexer": "ipython3",
   "version": "3.7.3"
  }
 },
 "nbformat": 4,
 "nbformat_minor": 2
}