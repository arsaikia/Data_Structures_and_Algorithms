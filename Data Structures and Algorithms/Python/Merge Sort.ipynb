{
 "cells": [
  {
   "cell_type": "markdown",
   "metadata": {},
   "source": [
    "## Merge Sort"
   ]
  },
  {
   "cell_type": "code",
   "execution_count": 1,
   "metadata": {},
   "outputs": [],
   "source": [
    "import random\n",
    "A = random.sample(range(-1000000, 100000000), random.randint(1000000,1000000))"
   ]
  },
  {
   "cell_type": "code",
   "execution_count": 2,
   "metadata": {},
   "outputs": [],
   "source": [
    "import random\n",
    "A = random.sample(range(1, 10), 8)"
   ]
  },
  {
   "cell_type": "raw",
   "metadata": {},
   "source": [
    "Merge_Sort( A, 0, len(A)-1)\n",
    "\n",
    "[8, 3, 6, 1]"
   ]
  },
  {
   "cell_type": "code",
   "execution_count": 3,
   "metadata": {},
   "outputs": [],
   "source": [
    "def Merge_Sort( arr):\n",
    "    \n",
    "    if len(arr) > 1:\n",
    "        mid = len(arr)//2\n",
    "        left = arr[:mid]\n",
    "        right = arr[mid:]\n",
    "        \n",
    "        Merge_Sort(left)\n",
    "        Merge_Sort(right)\n",
    "        Merge( arr, mid )"
   ]
  },
  {
   "cell_type": "code",
   "execution_count": 9,
   "metadata": {},
   "outputs": [],
   "source": [
    "def Merge( arr, mid):\n",
    "    \n",
    "    left = arr[:mid]\n",
    "    right = arr[mid:]\n",
    "    \n",
    "    i=0\n",
    "    j=0\n",
    "    k=0\n",
    "    \n",
    "    while(i<len(left)  and  j<len(right)):\n",
    "        if left[i] < right[i]:\n",
    "            arr[k] = left[i]\n",
    "            i+=1\n",
    "        else:\n",
    "            arr[k] = right[j]\n",
    "            j+=1\n",
    "        k+=1\n",
    "        \n",
    "    while (i < len(left)):\n",
    "        arr[k] = arr[i]\n",
    "        i=i+1\n",
    "        k=k+1\n",
    "        \n",
    "    while (i < len(left)):\n",
    "        arr[k] = arr[i]\n",
    "        i=i+1\n",
    "        k=k+1\n"
   ]
  },
  {
   "cell_type": "code",
   "execution_count": 10,
   "metadata": {
    "tags": []
   },
   "outputs": [
    {
     "output_type": "stream",
     "name": "stdout",
     "text": "0.0\n"
    }
   ],
   "source": [
    "import time as t\n",
    "\n",
    "start = t.time()\n",
    "Merge_Sort( A)\n",
    "end = t.time()\n",
    "print(end-start)"
   ]
  },
  {
   "cell_type": "code",
   "execution_count": 11,
   "metadata": {
    "tags": []
   },
   "outputs": [
    {
     "output_type": "stream",
     "name": "stdout",
     "text": "[5, 8, 3, 7, 5, 8, 3, 7]\n"
    }
   ],
   "source": [
    "print(A[:10])"
   ]
  },
  {
   "cell_type": "code",
   "execution_count": null,
   "metadata": {},
   "outputs": [],
   "source": []
  }
 ],
 "metadata": {
  "kernelspec": {
   "display_name": "Python 3.8.4 64-bit",
   "language": "python",
   "name": "python_defaultSpec_1595477294994"
  },
  "language_info": {
   "codemirror_mode": {
    "name": "ipython",
    "version": 3
   },
   "file_extension": ".py",
   "mimetype": "text/x-python",
   "name": "python",
   "nbconvert_exporter": "python",
   "pygments_lexer": "ipython3",
   "version": "3.7.3"
  }
 },
 "nbformat": 4,
 "nbformat_minor": 2
}